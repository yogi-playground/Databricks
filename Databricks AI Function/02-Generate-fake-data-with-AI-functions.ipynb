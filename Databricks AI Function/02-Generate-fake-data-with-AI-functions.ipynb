{
 "cells": [
  {
   "cell_type": "markdown",
   "metadata": {
    "application/vnd.databricks.v1+cell": {
     "cellMetadata": {},
     "inputWidgets": {},
     "nuid": "aada0847-d884-4894-b87a-8f0950a55019",
     "showTitle": false,
     "title": ""
    }
   },
   "source": [
    "# 2/ Introduction to SQL AI Function: generating fake data with custom Model Serving Endpoint\n",
    "\n",
    "For this demo, we'll start by generating fake data using `AI_QUERY()`. \n",
    "\n",
    "The sample data will mimics customer reviews for grocery products submitted to an e-commerce website.\n",
    "\n",
    "## Working with `AI_QUERY` function\n",
    "\n",
    "Our function signature is the following:\n",
    "\n",
    "```\n",
    "SELECT ai_query(endpointName, request) for external models and foundation models. \n",
    "SELECT ai_query(endpointName, request, returnType) for custom model serving endpoint. \n",
    "```\n",
    "\n",
    "`AI_QUERY` will send the prompt to the remote model configured and retrive the result as SQL.\n",
    "\n",
    "*Note: this will reproduce the behavior or the built-in `gen_ai` function, but leveraging one of the Model Serving Endpoint of your choice.*<br/>\n",
    "*If you're looking at quickly generating data, we recommend you to just go with the built-in.*\n",
    "\n",
    "*This notebook will use the foundation Dbrx Instruct model for inference*\n",
    "\n",
    "<!-- Collect usage data (view). Remove it to disable collection or disable tracker during installation. View README for more details.  -->\n",
    "<img width=\"1px\" src=\"https://ppxrzfxige.execute-api.us-west-2.amazonaws.com/v1/analytics?category=DBSQL&org_id=1221206873714816&notebook=%2F02-Generate-fake-data-with-AI-functions&demo_name=sql-ai-functions&event=VIEW&path=%2F_dbdemos%2FDBSQL%2Fsql-ai-functions%2F02-Generate-fake-data-with-AI-functions&version=1\">"
   ]
  },
  {
   "cell_type": "markdown",
   "metadata": {
    "application/vnd.databricks.v1+cell": {
     "cellMetadata": {},
     "inputWidgets": {},
     "nuid": "f5f53e23-0e25-4543-82dc-560b4e4b2966",
     "showTitle": false,
     "title": ""
    }
   },
   "source": [
    "To run this notebook, connect to <b> SQL endpoint </b>. The AI_QUERY function is available on Databricks SQL Pro and Serverless."
   ]
  },
  {
   "cell_type": "code",
   "execution_count": 0,
   "metadata": {
    "application/vnd.databricks.v1+cell": {
     "cellMetadata": {},
     "inputWidgets": {},
     "nuid": "5c59a15b-4c09-41be-98b2-0c6990403a60",
     "showTitle": false,
     "title": ""
    }
   },
   "outputs": [
    {
     "output_type": "display_data",
     "data": {
      "text/html": [
       "<style scoped>\n",
       "  .table-result-container {\n",
       "    max-height: 300px;\n",
       "    overflow: auto;\n",
       "  }\n",
       "  table, th, td {\n",
       "    border: 1px solid black;\n",
       "    border-collapse: collapse;\n",
       "  }\n",
       "  th, td {\n",
       "    padding: 5px;\n",
       "  }\n",
       "  th {\n",
       "    text-align: left;\n",
       "  }\n",
       "</style><div class='table-result-container'><table class='table-result'><thead style='background-color: white'><tr><th>assert_true((current_version().dbsql_version IS NOT NULL), YOU MUST USE A SQL WAREHOUSE)</th></tr></thead><tbody><tr><td>null</td></tr></tbody></table></div>"
      ]
     },
     "metadata": {
      "application/vnd.databricks.v1+output": {
       "addedWidgets": {},
       "aggData": [],
       "aggError": "",
       "aggOverflow": false,
       "aggSchema": [],
       "aggSeriesLimitReached": false,
       "aggType": "",
       "arguments": {},
       "columnCustomDisplayInfos": {},
       "data": [
        [
         null
        ]
       ],
       "datasetInfos": [],
       "dbfsResultPath": null,
       "isJsonSchema": true,
       "metadata": {},
       "overflow": false,
       "plotOptions": {
        "customPlotOptions": {},
        "displayType": "table",
        "pivotAggregation": null,
        "pivotColumns": null,
        "xColumns": null,
        "yColumns": null
       },
       "removedWidgets": [],
       "schema": [
        {
         "metadata": "{}",
         "name": "assert_true((current_version().dbsql_version IS NOT NULL), YOU MUST USE A SQL WAREHOUSE)",
         "type": "\"null\""
        }
       ],
       "type": "table"
      }
     },
     "output_type": "display_data"
    },
    {
     "output_type": "display_data",
     "data": {
      "text/html": [
       "<style scoped>\n",
       "  .table-result-container {\n",
       "    max-height: 300px;\n",
       "    overflow: auto;\n",
       "  }\n",
       "  table, th, td {\n",
       "    border: 1px solid black;\n",
       "    border-collapse: collapse;\n",
       "  }\n",
       "  th, td {\n",
       "    padding: 5px;\n",
       "  }\n",
       "  th {\n",
       "    text-align: left;\n",
       "  }\n",
       "</style><div class='table-result-container'><table class='table-result'><thead style='background-color: white'><tr></tr></thead><tbody></tbody></table></div>"
      ]
     },
     "metadata": {
      "application/vnd.databricks.v1+output": {
       "addedWidgets": {},
       "aggData": [],
       "aggError": "",
       "aggOverflow": false,
       "aggSchema": [],
       "aggSeriesLimitReached": false,
       "aggType": "",
       "arguments": {},
       "columnCustomDisplayInfos": {},
       "data": [],
       "datasetInfos": [],
       "dbfsResultPath": null,
       "isJsonSchema": true,
       "metadata": {},
       "overflow": false,
       "plotOptions": {
        "customPlotOptions": {},
        "displayType": "table",
        "pivotAggregation": null,
        "pivotColumns": null,
        "xColumns": null,
        "yColumns": null
       },
       "removedWidgets": [],
       "schema": [],
       "type": "table"
      }
     },
     "output_type": "display_data"
    },
    {
     "output_type": "display_data",
     "data": {
      "text/html": [
       "<style scoped>\n",
       "  .table-result-container {\n",
       "    max-height: 300px;\n",
       "    overflow: auto;\n",
       "  }\n",
       "  table, th, td {\n",
       "    border: 1px solid black;\n",
       "    border-collapse: collapse;\n",
       "  }\n",
       "  th, td {\n",
       "    padding: 5px;\n",
       "  }\n",
       "  th {\n",
       "    text-align: left;\n",
       "  }\n",
       "</style><div class='table-result-container'><table class='table-result'><thead style='background-color: white'><tr></tr></thead><tbody></tbody></table></div>"
      ]
     },
     "metadata": {
      "application/vnd.databricks.v1+output": {
       "addedWidgets": {},
       "aggData": [],
       "aggError": "",
       "aggOverflow": false,
       "aggSchema": [],
       "aggSeriesLimitReached": false,
       "aggType": "",
       "arguments": {},
       "columnCustomDisplayInfos": {},
       "data": [],
       "datasetInfos": [],
       "dbfsResultPath": null,
       "isJsonSchema": true,
       "metadata": {},
       "overflow": false,
       "plotOptions": {
        "customPlotOptions": {},
        "displayType": "table",
        "pivotAggregation": null,
        "pivotColumns": null,
        "xColumns": null,
        "yColumns": null
       },
       "removedWidgets": [],
       "schema": [],
       "type": "table"
      }
     },
     "output_type": "display_data"
    },
    {
     "output_type": "display_data",
     "data": {
      "text/html": [
       "<style scoped>\n",
       "  .table-result-container {\n",
       "    max-height: 300px;\n",
       "    overflow: auto;\n",
       "  }\n",
       "  table, th, td {\n",
       "    border: 1px solid black;\n",
       "    border-collapse: collapse;\n",
       "  }\n",
       "  th, td {\n",
       "    padding: 5px;\n",
       "  }\n",
       "  th {\n",
       "    text-align: left;\n",
       "  }\n",
       "</style><div class='table-result-container'><table class='table-result'><thead style='background-color: white'><tr></tr></thead><tbody></tbody></table></div>"
      ]
     },
     "metadata": {
      "application/vnd.databricks.v1+output": {
       "addedWidgets": {},
       "aggData": [],
       "aggError": "",
       "aggOverflow": false,
       "aggSchema": [],
       "aggSeriesLimitReached": false,
       "aggType": "",
       "arguments": {},
       "columnCustomDisplayInfos": {},
       "data": [],
       "datasetInfos": [],
       "dbfsResultPath": null,
       "isJsonSchema": true,
       "metadata": {},
       "overflow": false,
       "plotOptions": {
        "customPlotOptions": {},
        "displayType": "table",
        "pivotAggregation": null,
        "pivotColumns": null,
        "xColumns": null,
        "yColumns": null
       },
       "removedWidgets": [],
       "schema": [],
       "type": "table"
      }
     },
     "output_type": "display_data"
    }
   ],
   "source": [
    "%sql\n",
    "-- as previously, make sure you run this notebook using a SQL Warehouse (not a cluster)\n",
    "SELECT assert_true(current_version().dbsql_version is not null, 'YOU MUST USE A SQL WAREHOUSE');\n",
    "\n",
    "USE CATALOG main;\n",
    "CREATE SCHEMA IF NOT EXISTS dbdemos_ai_query;\n",
    "USE SCHEMA dbdemos_ai_query;"
   ]
  },
  {
   "cell_type": "code",
   "execution_count": 0,
   "metadata": {
    "application/vnd.databricks.v1+cell": {
     "cellMetadata": {},
     "inputWidgets": {},
     "nuid": "8e86db04-2033-40b2-97ea-fbef2a251663",
     "showTitle": false,
     "title": ""
    }
   },
   "outputs": [
    {
     "output_type": "display_data",
     "data": {
      "text/html": [
       "<style scoped>\n",
       "  .table-result-container {\n",
       "    max-height: 300px;\n",
       "    overflow: auto;\n",
       "  }\n",
       "  table, th, td {\n",
       "    border: 1px solid black;\n",
       "    border-collapse: collapse;\n",
       "  }\n",
       "  th, td {\n",
       "    padding: 5px;\n",
       "  }\n",
       "  th {\n",
       "    text-align: left;\n",
       "  }\n",
       "</style><div class='table-result-container'><table class='table-result'><thead style='background-color: white'><tr><th>product_review</th></tr></thead><tbody><tr><td>\"I am thrilled with my purchase of this red dress! The color is vibrant and eye-catching, and the fit is flattering and comfortable. I have received numerous compliments while wearing it. Highly recommend!\"</td></tr></tbody></table></div>"
      ]
     },
     "metadata": {
      "application/vnd.databricks.v1+output": {
       "addedWidgets": {},
       "aggData": [],
       "aggError": "",
       "aggOverflow": false,
       "aggSchema": [],
       "aggSeriesLimitReached": false,
       "aggType": "",
       "arguments": {},
       "columnCustomDisplayInfos": {},
       "data": [
        [
         "\"I am thrilled with my purchase of this red dress! The color is vibrant and eye-catching, and the fit is flattering and comfortable. I have received numerous compliments while wearing it. Highly recommend!\""
        ]
       ],
       "datasetInfos": [],
       "dbfsResultPath": null,
       "isJsonSchema": true,
       "metadata": {},
       "overflow": false,
       "plotOptions": {
        "customPlotOptions": {},
        "displayType": "table",
        "pivotAggregation": null,
        "pivotColumns": null,
        "xColumns": null,
        "yColumns": null
       },
       "removedWidgets": [],
       "schema": [
        {
         "metadata": "{}",
         "name": "product_review",
         "type": "\"string\""
        }
       ],
       "type": "table"
      }
     },
     "output_type": "display_data"
    }
   ],
   "source": [
    "%sql\n",
    "SELECT\n",
    "  AI_QUERY(\n",
    "    \"databricks-dbrx-instruct\",\n",
    "    \"Generate a short product review for a red dress. The customer is very happy with the article.\"\n",
    "  ) as product_review"
   ]
  },
  {
   "cell_type": "markdown",
   "metadata": {
    "application/vnd.databricks.v1+cell": {
     "cellMetadata": {},
     "inputWidgets": {},
     "nuid": "e2bbe0ff-a91c-4d59-ba03-bf1abdb84ae3",
     "showTitle": false,
     "title": ""
    }
   },
   "source": [
    "### Introduction to SQL Function: adding a wrapper function to simplify the call\n",
    "\n",
    "While it's easy to call this function, having to our model endpoint name as parameter can be harder to use, especially for Data Analyst who should focus on crafting proper prompt. \n",
    "\n",
    "To simplify our demo next steps, we'll create a wrapper SQL function `ASK_LLM_MODEL` with a string as input parameter (the question to ask) and wrap all the model configuration.\n",
    "\n",
    "<img src=\"https://raw.githubusercontent.com/databricks-demos/dbdemos-resources/main/images/product/sql-ai-functions/sql-ai-query-function-review-wrapper.png\" width=\"1200px\">"
   ]
  },
  {
   "cell_type": "code",
   "execution_count": 0,
   "metadata": {
    "application/vnd.databricks.v1+cell": {
     "cellMetadata": {},
     "inputWidgets": {},
     "nuid": "ac787a43-02e5-4a3b-bfa9-6c4af7a7a726",
     "showTitle": true,
     "title": "SQL admin setup wrapper function"
    }
   },
   "outputs": [
    {
     "output_type": "display_data",
     "data": {
      "text/html": [
       "<style scoped>\n",
       "  .table-result-container {\n",
       "    max-height: 300px;\n",
       "    overflow: auto;\n",
       "  }\n",
       "  table, th, td {\n",
       "    border: 1px solid black;\n",
       "    border-collapse: collapse;\n",
       "  }\n",
       "  th, td {\n",
       "    padding: 5px;\n",
       "  }\n",
       "  th {\n",
       "    text-align: left;\n",
       "  }\n",
       "</style><div class='table-result-container'><table class='table-result'><thead style='background-color: white'><tr></tr></thead><tbody></tbody></table></div>"
      ]
     },
     "metadata": {
      "application/vnd.databricks.v1+output": {
       "addedWidgets": {},
       "aggData": [],
       "aggError": "",
       "aggOverflow": false,
       "aggSchema": [],
       "aggSeriesLimitReached": false,
       "aggType": "",
       "arguments": {},
       "columnCustomDisplayInfos": {},
       "data": [],
       "datasetInfos": [],
       "dbfsResultPath": null,
       "isJsonSchema": true,
       "metadata": {},
       "overflow": false,
       "plotOptions": {
        "customPlotOptions": {},
        "displayType": "table",
        "pivotAggregation": null,
        "pivotColumns": null,
        "xColumns": null,
        "yColumns": null
       },
       "removedWidgets": [],
       "schema": [],
       "type": "table"
      }
     },
     "output_type": "display_data"
    }
   ],
   "source": [
    "%sql\n",
    "CREATE OR REPLACE FUNCTION ASK_LLM_MODEL(prompt STRING) \n",
    "  RETURNS STRING\n",
    "  RETURN \n",
    "    AI_QUERY(\"databricks-dbrx-instruct\", prompt);\n",
    "\n",
    "-- ALTER FUNCTION ASK_LLM_MODEL OWNER TO `your_principal`; -- for the demo only, make sure other users can access your function"
   ]
  },
  {
   "cell_type": "code",
   "execution_count": 0,
   "metadata": {
    "application/vnd.databricks.v1+cell": {
     "cellMetadata": {},
     "inputWidgets": {},
     "nuid": "9b7f029d-321d-42f4-b43c-9924479b53fc",
     "showTitle": true,
     "title": "SQL Analyst simply use the wrapper"
    }
   },
   "outputs": [
    {
     "output_type": "display_data",
     "data": {
      "text/html": [
       "<style scoped>\n",
       "  .table-result-container {\n",
       "    max-height: 300px;\n",
       "    overflow: auto;\n",
       "  }\n",
       "  table, th, td {\n",
       "    border: 1px solid black;\n",
       "    border-collapse: collapse;\n",
       "  }\n",
       "  th, td {\n",
       "    padding: 5px;\n",
       "  }\n",
       "  th {\n",
       "    text-align: left;\n",
       "  }\n",
       "</style><div class='table-result-container'><table class='table-result'><thead style='background-color: white'><tr><th>main.dbdemos_ai_query.ask_llm_model(Generate a short product review for a red dress. The customer is very happy with the article.)</th></tr></thead><tbody><tr><td>\"I am thrilled with my purchase of this red dress! The color is vibrant and eye-catching, and the fit is flattering and comfortable. I have received numerous compliments while wearing it. Highly recommend!\"</td></tr></tbody></table></div>"
      ]
     },
     "metadata": {
      "application/vnd.databricks.v1+output": {
       "addedWidgets": {},
       "aggData": [],
       "aggError": "",
       "aggOverflow": false,
       "aggSchema": [],
       "aggSeriesLimitReached": false,
       "aggType": "",
       "arguments": {},
       "columnCustomDisplayInfos": {},
       "data": [
        [
         "\"I am thrilled with my purchase of this red dress! The color is vibrant and eye-catching, and the fit is flattering and comfortable. I have received numerous compliments while wearing it. Highly recommend!\""
        ]
       ],
       "datasetInfos": [],
       "dbfsResultPath": null,
       "isJsonSchema": true,
       "metadata": {},
       "overflow": false,
       "plotOptions": {
        "customPlotOptions": {},
        "displayType": "table",
        "pivotAggregation": null,
        "pivotColumns": null,
        "xColumns": null,
        "yColumns": null
       },
       "removedWidgets": [],
       "schema": [
        {
         "metadata": "{}",
         "name": "main.dbdemos_ai_query.ask_llm_model(Generate a short product review for a red dress. The customer is very happy with the article.)",
         "type": "\"string\""
        }
       ],
       "type": "table"
      }
     },
     "output_type": "display_data"
    }
   ],
   "source": [
    "%sql\n",
    "SELECT ASK_LLM_MODEL(\"Generate a short product review for a red dress. The customer is very happy with the article.\")"
   ]
  },
  {
   "cell_type": "markdown",
   "metadata": {
    "application/vnd.databricks.v1+cell": {
     "cellMetadata": {},
     "inputWidgets": {},
     "nuid": "3624b3e9-d58e-4bb7-b928-f55d71e0235d",
     "showTitle": false,
     "title": ""
    }
   },
   "source": [
    "## Generating a more complete sample dataset with prompt engineering\n",
    "\n",
    "Now that we know how to send a basic query to Open AI using SQL functions, let's ask the model a more detailed question.\n",
    "\n",
    "We'll directly ask to model to generate multiple rows and directly return as a json. \n",
    "\n",
    "Here's a prompt example to generate JSON:\n",
    "```\n",
    "Generate a sample dataset for me of 2 rows that contains the following columns: \"date\" (random dates in 2022), \n",
    "\"review_id\" (random id), \"product_name\" (use popular grocery product brands), and \"review\". Reviews should mimic useful product reviews \n",
    "left on an e-commerce marketplace website. \n",
    "\n",
    "The reviews should vary in length (shortest: one sentence, longest: 2 paragraphs), sentiment, and complexity. A very complex review \n",
    "would talk about multiple topics (entities) about the product with varying sentiment per topic. Provide a mix of positive, negative, \n",
    "and neutral reviews\n",
    "\n",
    "Return JSON ONLY. No other text outside the JSON. JSON format:\n",
    "[{\"review_date\":<date>, \"review_id\":<review_id>, \"product_name\":<product_name>, \"review\":<review>}]\n",
    "```"
   ]
  },
  {
   "cell_type": "code",
   "execution_count": 0,
   "metadata": {
    "application/vnd.databricks.v1+cell": {
     "cellMetadata": {},
     "inputWidgets": {},
     "nuid": "779559bd-ddf5-4fde-8805-0a8df40f1517",
     "showTitle": false,
     "title": ""
    }
   },
   "outputs": [
    {
     "output_type": "display_data",
     "data": {
      "text/html": [
       "<style scoped>\n",
       "  .table-result-container {\n",
       "    max-height: 300px;\n",
       "    overflow: auto;\n",
       "  }\n",
       "  table, th, td {\n",
       "    border: 1px solid black;\n",
       "    border-collapse: collapse;\n",
       "  }\n",
       "  th, td {\n",
       "    padding: 5px;\n",
       "  }\n",
       "  th {\n",
       "    text-align: left;\n",
       "  }\n",
       "</style><div class='table-result-container'><table class='table-result'><thead style='background-color: white'><tr><th>fake_reviews</th></tr></thead><tbody><tr><td>[\n",
       "{\"review_date\": \"2022-01-01\", \"review_id\": 12345, \"customer_id\": 50, \"review\": \"The product was great, I really enjoyed it.\"},\n",
       "{\"review_date\": \"2022-06-15\", \"review_id\": 67890, \"customer_id\": 25, \"review\": \"I was disappointed with my purchase. The quality was lacking and the taste was off.\"}\n",
       "]</td></tr></tbody></table></div>"
      ]
     },
     "metadata": {
      "application/vnd.databricks.v1+output": {
       "addedWidgets": {},
       "aggData": [],
       "aggError": "",
       "aggOverflow": false,
       "aggSchema": [],
       "aggSeriesLimitReached": false,
       "aggType": "",
       "arguments": {},
       "columnCustomDisplayInfos": {},
       "data": [
        [
         "[\n{\"review_date\": \"2022-01-01\", \"review_id\": 12345, \"customer_id\": 50, \"review\": \"The product was great, I really enjoyed it.\"},\n{\"review_date\": \"2022-06-15\", \"review_id\": 67890, \"customer_id\": 25, \"review\": \"I was disappointed with my purchase. The quality was lacking and the taste was off.\"}\n]"
        ]
       ],
       "datasetInfos": [],
       "dbfsResultPath": null,
       "isJsonSchema": true,
       "metadata": {},
       "overflow": false,
       "plotOptions": {
        "customPlotOptions": {},
        "displayType": "table",
        "pivotAggregation": null,
        "pivotColumns": null,
        "xColumns": null,
        "yColumns": null
       },
       "removedWidgets": [],
       "schema": [
        {
         "metadata": "{}",
         "name": "fake_reviews",
         "type": "\"string\""
        }
       ],
       "type": "table"
      }
     },
     "output_type": "display_data"
    }
   ],
   "source": [
    "%sql\n",
    "SELECT ASK_LLM_MODEL(\n",
    "      'Generate a sample dataset of 2 rows that contains the following columns: \"date\" (random dates in 2022), \n",
    "      \"review_id\" (random id), \"customer_id\" (random long from 1 to 100)  and \"review\". Reviews should mimic useful product reviews \n",
    "      left on an e-commerce marketplace website. \n",
    "      \n",
    "      The reviews should be about a popular grocery brands product\n",
    "\n",
    "      The reviews should vary in length (shortest: one sentence, longest: 2 paragraphs), sentiment, and complexity. A very complex review \n",
    "      would talk about multiple topics (entities) about the product with varying sentiment per topic. Provide a mix of positive, negative, \n",
    "      and neutral reviews.\n",
    "\n",
    "      Give me JSON only. No text outside JSON. No explanations or notes\n",
    "      [{\"review_date\":<date>, \"review_id\":<long>, \"customer_id\":<long>, \"review\":<string>}]') as fake_reviews;"
   ]
  },
  {
   "cell_type": "markdown",
   "metadata": {
    "application/vnd.databricks.v1+cell": {
     "cellMetadata": {},
     "inputWidgets": {},
     "nuid": "0596dfe5-a378-46a3-b78b-04401380d631",
     "showTitle": false,
     "title": ""
    }
   },
   "source": [
    "## Converting the results as json \n",
    "\n",
    "Our results are looking good. All we now have to do is transform the results from text as a JSON and explode the results over N rows.\n",
    "\n",
    "Let's create a new function to do that:"
   ]
  },
  {
   "cell_type": "code",
   "execution_count": 0,
   "metadata": {
    "application/vnd.databricks.v1+cell": {
     "cellMetadata": {},
     "inputWidgets": {},
     "nuid": "8a79a506-63e8-4f78-ab78-e0bdcc93b25c",
     "showTitle": false,
     "title": ""
    }
   },
   "outputs": [
    {
     "output_type": "display_data",
     "data": {
      "text/html": [
       "<style scoped>\n",
       "  .table-result-container {\n",
       "    max-height: 300px;\n",
       "    overflow: auto;\n",
       "  }\n",
       "  table, th, td {\n",
       "    border: 1px solid black;\n",
       "    border-collapse: collapse;\n",
       "  }\n",
       "  th, td {\n",
       "    padding: 5px;\n",
       "  }\n",
       "  th {\n",
       "    text-align: left;\n",
       "  }\n",
       "</style><div class='table-result-container'><table class='table-result'><thead style='background-color: white'><tr></tr></thead><tbody></tbody></table></div>"
      ]
     },
     "metadata": {
      "application/vnd.databricks.v1+output": {
       "addedWidgets": {},
       "aggData": [],
       "aggError": "",
       "aggOverflow": false,
       "aggSchema": [],
       "aggSeriesLimitReached": false,
       "aggType": "",
       "arguments": {},
       "columnCustomDisplayInfos": {},
       "data": [],
       "datasetInfos": [],
       "dbfsResultPath": null,
       "isJsonSchema": true,
       "metadata": {},
       "overflow": false,
       "plotOptions": {
        "customPlotOptions": {},
        "displayType": "table",
        "pivotAggregation": null,
        "pivotColumns": null,
        "xColumns": null,
        "yColumns": null
       },
       "removedWidgets": [],
       "schema": [],
       "type": "table"
      }
     },
     "output_type": "display_data"
    }
   ],
   "source": [
    "%sql\n",
    "CREATE OR REPLACE FUNCTION GENERATE_FAKE_REVIEWS(num_reviews INT DEFAULT 5)\n",
    "  RETURNS array<struct<review_date:date, review_id:long, customer_id:long, review:string>>\n",
    "  RETURN \n",
    "  SELECT FROM_JSON(\n",
    "      ASK_LLM_MODEL(\n",
    "        CONCAT('Generate a sample dataset of ', num_reviews, ' rows that contains the following columns: \"date\" (random dates in 2022), \n",
    "        \"review_id\" (random long), \"customer_id\" (random long from 1 to 100) and \"review\". \n",
    "        Reviews should mimic useful product reviews from popular grocery brands product left on an e-commerce marketplace website. The review must include the product name.\n",
    "\n",
    "        The reviews should vary in length (shortest: 5 sentence, longest: 10 sentences).\n",
    "        Provide a mix of positive, negative, and neutral reviews but mostly negative.\n",
    "\n",
    "        Give me JSON only. No text outside JSON. No explanations or notes\n",
    "        [{\"review_date\":<date>, \"review_id\":<long>, \"customer_id\":<long>, \"review\":<string>}]')), \n",
    "        \"array<struct<review_date:date, review_id:long, customer_id:long, review:string>>\")\n",
    "\n",
    "-- ALTER FUNCTION GENERATE_FAKE_REVIEWS OWNER TO `your_principal`; -- for the demo only, make sure other users can access your function"
   ]
  },
  {
   "cell_type": "code",
   "execution_count": 0,
   "metadata": {
    "application/vnd.databricks.v1+cell": {
     "cellMetadata": {},
     "inputWidgets": {},
     "nuid": "7f81fc61-a8d2-4b73-aee0-c2c40f3f579a",
     "showTitle": true,
     "title": "Explode the json result as a table"
    }
   },
   "outputs": [
    {
     "output_type": "display_data",
     "data": {
      "text/html": [
       "<style scoped>\n",
       "  .table-result-container {\n",
       "    max-height: 300px;\n",
       "    overflow: auto;\n",
       "  }\n",
       "  table, th, td {\n",
       "    border: 1px solid black;\n",
       "    border-collapse: collapse;\n",
       "  }\n",
       "  th, td {\n",
       "    padding: 5px;\n",
       "  }\n",
       "  th {\n",
       "    text-align: left;\n",
       "  }\n",
       "</style><div class='table-result-container'><table class='table-result'><thead style='background-color: white'><tr><th>review_date</th><th>review_id</th><th>customer_id</th><th>review</th></tr></thead><tbody><tr><td>2022-01-01</td><td>123456789012345</td><td>42</td><td>I was really disappointed with my purchase of Kellogg's Frosted Flakes. The box was only half full and the cereal was stale. I expect better quality from such a well-known brand.</td></tr><tr><td>2022-02-20</td><td>987654321098765</td><td>73</td><td>I'm a big fan of Coca-Cola, but the last bottle I bought tasted off. It was flat and had a strange aftertaste. I hope this was just a one-time issue.</td></tr><tr><td>2022-03-15</td><td>456123789456123</td><td>19</td><td>I've been buying Quaker Oats for years, but the last batch I got was inedible. The oats were hard and didn't cook properly. I'm not sure what happened, but I'm not happy.</td></tr><tr><td>2022-04-10</td><td>951753456987451</td><td>88</td><td>I'm a fan of Frito-Lay chips, but the bag I bought last week was mostly air. I felt ripped off. I expect more chips in my bag.</td></tr><tr><td>2022-05-05</td><td>741852963012369</td><td>34</td><td>I've always loved Nutella, but the jar I bought last month had a weird texture. It was grainy and not as smooth as it usually is. I hope this was just a fluke.</td></tr><tr><td>2022-06-22</td><td>369258147258147</td><td>61</td><td>I'm a fan of Campbell's soup, but the can I bought last week was dented and the soup tasted off. I'm not sure if it was because of the dent or not, but I was disappointed.</td></tr><tr><td>2022-07-08</td><td>852963012369852</td><td>5</td><td>I've been buying Cheerios for years, but the box I got last week was stale. I'm not sure if it was old or what, but I was not happy.</td></tr><tr><td>2022-08-20</td><td>258147258147258</td><td>97</td><td>I'm a fan of Lay's potato chips, but the bag I bought last week was mostly broken pieces. I felt like I didn't get my money's worth.</td></tr><tr><td>2022-09-15</td><td>963012369852963</td><td>28</td><td>I've always loved Skippy peanut butter, but the jar I bought last month had a strange taste. It was almost bitter. I'm not sure what happened, but I was not happy.</td></tr><tr><td>2022-10-10</td><td>741258147258147</td><td>82</td><td>I'm a fan of Kraft mac and cheese, but the box I bought last week was missing the cheese packet. I was not happy. I expect better quality from such a well-known brand.</td></tr></tbody></table></div>"
      ]
     },
     "metadata": {
      "application/vnd.databricks.v1+output": {
       "addedWidgets": {},
       "aggData": [],
       "aggError": "",
       "aggOverflow": false,
       "aggSchema": [],
       "aggSeriesLimitReached": false,
       "aggType": "",
       "arguments": {},
       "columnCustomDisplayInfos": {},
       "data": [
        [
         "2022-01-01",
         123456789012345,
         42,
         "I was really disappointed with my purchase of Kellogg's Frosted Flakes. The box was only half full and the cereal was stale. I expect better quality from such a well-known brand."
        ],
        [
         "2022-02-20",
         987654321098765,
         73,
         "I'm a big fan of Coca-Cola, but the last bottle I bought tasted off. It was flat and had a strange aftertaste. I hope this was just a one-time issue."
        ],
        [
         "2022-03-15",
         456123789456123,
         19,
         "I've been buying Quaker Oats for years, but the last batch I got was inedible. The oats were hard and didn't cook properly. I'm not sure what happened, but I'm not happy."
        ],
        [
         "2022-04-10",
         951753456987451,
         88,
         "I'm a fan of Frito-Lay chips, but the bag I bought last week was mostly air. I felt ripped off. I expect more chips in my bag."
        ],
        [
         "2022-05-05",
         741852963012369,
         34,
         "I've always loved Nutella, but the jar I bought last month had a weird texture. It was grainy and not as smooth as it usually is. I hope this was just a fluke."
        ],
        [
         "2022-06-22",
         369258147258147,
         61,
         "I'm a fan of Campbell's soup, but the can I bought last week was dented and the soup tasted off. I'm not sure if it was because of the dent or not, but I was disappointed."
        ],
        [
         "2022-07-08",
         852963012369852,
         5,
         "I've been buying Cheerios for years, but the box I got last week was stale. I'm not sure if it was old or what, but I was not happy."
        ],
        [
         "2022-08-20",
         258147258147258,
         97,
         "I'm a fan of Lay's potato chips, but the bag I bought last week was mostly broken pieces. I felt like I didn't get my money's worth."
        ],
        [
         "2022-09-15",
         963012369852963,
         28,
         "I've always loved Skippy peanut butter, but the jar I bought last month had a strange taste. It was almost bitter. I'm not sure what happened, but I was not happy."
        ],
        [
         "2022-10-10",
         741258147258147,
         82,
         "I'm a fan of Kraft mac and cheese, but the box I bought last week was missing the cheese packet. I was not happy. I expect better quality from such a well-known brand."
        ]
       ],
       "datasetInfos": [],
       "dbfsResultPath": null,
       "isJsonSchema": true,
       "metadata": {},
       "overflow": false,
       "plotOptions": {
        "customPlotOptions": {},
        "displayType": "table",
        "pivotAggregation": null,
        "pivotColumns": null,
        "xColumns": null,
        "yColumns": null
       },
       "removedWidgets": [],
       "schema": [
        {
         "metadata": "{}",
         "name": "review_date",
         "type": "\"date\""
        },
        {
         "metadata": "{}",
         "name": "review_id",
         "type": "\"long\""
        },
        {
         "metadata": "{}",
         "name": "customer_id",
         "type": "\"long\""
        },
        {
         "metadata": "{}",
         "name": "review",
         "type": "\"string\""
        }
       ],
       "type": "table"
      }
     },
     "output_type": "display_data"
    }
   ],
   "source": [
    "%sql\n",
    "SELECT\n",
    "  review.*\n",
    "FROM\n",
    "  (\n",
    "    SELECT\n",
    "      explode(reviews) as review\n",
    "    FROM\n",
    "      (\n",
    "        SELECT\n",
    "          GENERATE_FAKE_REVIEWS(10) as reviews\n",
    "      )\n",
    "  )"
   ]
  },
  {
   "cell_type": "markdown",
   "metadata": {
    "application/vnd.databricks.v1+cell": {
     "cellMetadata": {},
     "inputWidgets": {},
     "nuid": "0027d2c0-f039-4ca9-8ca9-ae25cc3c6314",
     "showTitle": false,
     "title": ""
    }
   },
   "source": [
    "\n",
    "## Saving our dataset as a table to be used directly in our demo.\n",
    "\n",
    "*Note that if you want to create more rows, you can first create a table and add multiple rows, with extra information that you can then concatenate to your prompt like categories, expected customer satisfaction etc. Once your table is created you can then call a new custom GENERATE function taking more parameters and crafting a more advanced prompt*"
   ]
  },
  {
   "cell_type": "code",
   "execution_count": 0,
   "metadata": {
    "application/vnd.databricks.v1+cell": {
     "cellMetadata": {},
     "inputWidgets": {},
     "nuid": "8b13821c-0e79-4f48-896c-9115ce634ce0",
     "showTitle": true,
     "title": "Save the crafted review as a new table"
    }
   },
   "outputs": [
    {
     "output_type": "display_data",
     "data": {
      "text/html": [
       "<style scoped>\n",
       "  .table-result-container {\n",
       "    max-height: 300px;\n",
       "    overflow: auto;\n",
       "  }\n",
       "  table, th, td {\n",
       "    border: 1px solid black;\n",
       "    border-collapse: collapse;\n",
       "  }\n",
       "  th, td {\n",
       "    padding: 5px;\n",
       "  }\n",
       "  th {\n",
       "    text-align: left;\n",
       "  }\n",
       "</style><div class='table-result-container'><table class='table-result'><thead style='background-color: white'><tr><th>num_affected_rows</th><th>num_inserted_rows</th></tr></thead><tbody></tbody></table></div>"
      ]
     },
     "metadata": {
      "application/vnd.databricks.v1+output": {
       "addedWidgets": {},
       "aggData": [],
       "aggError": "",
       "aggOverflow": false,
       "aggSchema": [],
       "aggSeriesLimitReached": false,
       "aggType": "",
       "arguments": {},
       "columnCustomDisplayInfos": {},
       "data": [],
       "datasetInfos": [],
       "dbfsResultPath": null,
       "isJsonSchema": true,
       "metadata": {},
       "overflow": false,
       "plotOptions": {
        "customPlotOptions": {},
        "displayType": "table",
        "pivotAggregation": null,
        "pivotColumns": null,
        "xColumns": null,
        "yColumns": null
       },
       "removedWidgets": [],
       "schema": [
        {
         "metadata": "{}",
         "name": "num_affected_rows",
         "type": "\"long\""
        },
        {
         "metadata": "{}",
         "name": "num_inserted_rows",
         "type": "\"long\""
        }
       ],
       "type": "table"
      }
     },
     "output_type": "display_data"
    }
   ],
   "source": [
    "%sql\n",
    "CREATE\n",
    "OR REPLACE TABLE fake_reviews COMMENT \"Raw Review Data\" AS\n",
    "SELECT\n",
    "  review.*\n",
    "FROM\n",
    "  (\n",
    "    SELECT\n",
    "      explode(reviews) as review\n",
    "    FROM\n",
    "      (\n",
    "        SELECT\n",
    "          GENERATE_FAKE_REVIEWS(10) as reviews\n",
    "      )\n",
    "  )"
   ]
  },
  {
   "cell_type": "code",
   "execution_count": 0,
   "metadata": {
    "application/vnd.databricks.v1+cell": {
     "cellMetadata": {},
     "inputWidgets": {},
     "nuid": "5922e65f-77f5-497a-8bcb-fe7b12769ddb",
     "showTitle": true,
     "title": "In addition, let's generate some users using the same idea:"
    }
   },
   "outputs": [
    {
     "output_type": "display_data",
     "data": {
      "text/html": [
       "<style scoped>\n",
       "  .table-result-container {\n",
       "    max-height: 300px;\n",
       "    overflow: auto;\n",
       "  }\n",
       "  table, th, td {\n",
       "    border: 1px solid black;\n",
       "    border-collapse: collapse;\n",
       "  }\n",
       "  th, td {\n",
       "    padding: 5px;\n",
       "  }\n",
       "  th {\n",
       "    text-align: left;\n",
       "  }\n",
       "</style><div class='table-result-container'><table class='table-result'><thead style='background-color: white'><tr></tr></thead><tbody></tbody></table></div>"
      ]
     },
     "metadata": {
      "application/vnd.databricks.v1+output": {
       "addedWidgets": {},
       "aggData": [],
       "aggError": "",
       "aggOverflow": false,
       "aggSchema": [],
       "aggSeriesLimitReached": false,
       "aggType": "",
       "arguments": {},
       "columnCustomDisplayInfos": {},
       "data": [],
       "datasetInfos": [],
       "dbfsResultPath": null,
       "isJsonSchema": true,
       "metadata": {},
       "overflow": false,
       "plotOptions": {
        "customPlotOptions": {},
        "displayType": "table",
        "pivotAggregation": null,
        "pivotColumns": null,
        "xColumns": null,
        "yColumns": null
       },
       "removedWidgets": [],
       "schema": [],
       "type": "table"
      }
     },
     "output_type": "display_data"
    }
   ],
   "source": [
    "%sql\n",
    "CREATE OR REPLACE FUNCTION GENERATE_FAKE_CUSTOMERS(num_reviews INT DEFAULT 10)\n",
    "  RETURNS array<struct<customer_id:long, firstname:string, lastname:string, order_count:int>>\n",
    "  RETURN \n",
    "  SELECT FROM_JSON(\n",
    "      ASK_LLM_MODEL(\n",
    "        CONCAT('Generate a sample dataset of ', num_reviews, ' customers containing the following columns: \n",
    "        \"customer_id\" (long from 1 to ', num_reviews, '), \"firstname\", \"lastname\" and order_count (random positive number, smaller than 200)\n",
    "\n",
    "        Give me JSON only. No text outside JSON. No explanations or notes\n",
    "        [{\"customer_id\":<long>, \"firstname\":<string>, \"lastname\":<string>, \"order_count\":<int>}]')), \n",
    "        \"array<struct<customer_id:long, firstname:string, lastname:string, order_count:int>>\")\n",
    "        \n",
    "-- ALTER FUNCTION GENERATE_FAKE_CUSTOMERS OWNER TO `your_principal`; -- for the demo only, make sure other users can access your function"
   ]
  },
  {
   "cell_type": "code",
   "execution_count": 0,
   "metadata": {
    "application/vnd.databricks.v1+cell": {
     "cellMetadata": {},
     "inputWidgets": {},
     "nuid": "b6b8173f-89d2-4ec5-8af1-c154452c7e42",
     "showTitle": false,
     "title": ""
    }
   },
   "outputs": [
    {
     "output_type": "display_data",
     "data": {
      "text/html": [
       "<style scoped>\n",
       "  .table-result-container {\n",
       "    max-height: 300px;\n",
       "    overflow: auto;\n",
       "  }\n",
       "  table, th, td {\n",
       "    border: 1px solid black;\n",
       "    border-collapse: collapse;\n",
       "  }\n",
       "  th, td {\n",
       "    padding: 5px;\n",
       "  }\n",
       "  th {\n",
       "    text-align: left;\n",
       "  }\n",
       "</style><div class='table-result-container'><table class='table-result'><thead style='background-color: white'><tr><th>num_affected_rows</th><th>num_inserted_rows</th></tr></thead><tbody></tbody></table></div>"
      ]
     },
     "metadata": {
      "application/vnd.databricks.v1+output": {
       "addedWidgets": {},
       "aggData": [],
       "aggError": "",
       "aggOverflow": false,
       "aggSchema": [],
       "aggSeriesLimitReached": false,
       "aggType": "",
       "arguments": {},
       "columnCustomDisplayInfos": {},
       "data": [],
       "datasetInfos": [],
       "dbfsResultPath": null,
       "isJsonSchema": true,
       "metadata": {},
       "overflow": false,
       "plotOptions": {
        "customPlotOptions": {},
        "displayType": "table",
        "pivotAggregation": null,
        "pivotColumns": null,
        "xColumns": null,
        "yColumns": null
       },
       "removedWidgets": [],
       "schema": [
        {
         "metadata": "{}",
         "name": "num_affected_rows",
         "type": "\"long\""
        },
        {
         "metadata": "{}",
         "name": "num_inserted_rows",
         "type": "\"long\""
        }
       ],
       "type": "table"
      }
     },
     "output_type": "display_data"
    }
   ],
   "source": [
    "%sql\n",
    "CREATE OR REPLACE TABLE fake_customers\n",
    "  COMMENT \"Raw customers\"\n",
    "  AS\n",
    "  SELECT customer.* FROM (\n",
    "    SELECT explode(customers) as customer FROM (\n",
    "      SELECT GENERATE_FAKE_CUSTOMERS(10) as customers))"
   ]
  },
  {
   "cell_type": "code",
   "execution_count": 0,
   "metadata": {
    "application/vnd.databricks.v1+cell": {
     "cellMetadata": {},
     "inputWidgets": {},
     "nuid": "0f68d6a7-9db1-492b-97f7-c7510ae4aa01",
     "showTitle": false,
     "title": ""
    }
   },
   "outputs": [
    {
     "output_type": "display_data",
     "data": {
      "text/html": [
       "<style scoped>\n",
       "  .table-result-container {\n",
       "    max-height: 300px;\n",
       "    overflow: auto;\n",
       "  }\n",
       "  table, th, td {\n",
       "    border: 1px solid black;\n",
       "    border-collapse: collapse;\n",
       "  }\n",
       "  th, td {\n",
       "    padding: 5px;\n",
       "  }\n",
       "  th {\n",
       "    text-align: left;\n",
       "  }\n",
       "</style><div class='table-result-container'><table class='table-result'><thead style='background-color: white'><tr><th>review_date</th><th>review_id</th><th>customer_id</th><th>review</th></tr></thead><tbody><tr><td>2022-01-01</td><td>123456789012345</td><td>42</td><td>I was really disappointed with my purchase of Kellogg's Frosted Flakes. The box was only half full and the cereal was stale. I expect better quality from such a well-known brand.</td></tr><tr><td>2022-02-20</td><td>987654321098765</td><td>73</td><td>I'm a big fan of Coca-Cola, but the last bottle I bought tasted off. It was flat and had a strange aftertaste. I hope this was just a one-time issue.</td></tr><tr><td>2022-03-15</td><td>456123789456123</td><td>19</td><td>I've been buying Quaker Oats for years, but the last batch I got was inedible. The oats were hard and didn't cook properly. I'm not sure what happened, but I'm not happy.</td></tr><tr><td>2022-04-10</td><td>951753456987451</td><td>88</td><td>I'm a fan of Frito-Lay chips, but the bag I bought last week was mostly air. I felt ripped off. I expect more chips in my bag.</td></tr><tr><td>2022-05-05</td><td>741852963012369</td><td>34</td><td>I've always loved Nutella, but the jar I bought last month had a weird texture. It was grainy and not as smooth as it usually is. I hope this was just a fluke.</td></tr><tr><td>2022-06-22</td><td>369258147258147</td><td>61</td><td>I'm a fan of Campbell's soup, but the can I bought last week was dented and the soup tasted off. I'm not sure if it was because of the dent or not, but I was disappointed.</td></tr><tr><td>2022-07-08</td><td>852963012369852</td><td>5</td><td>I've been buying Cheerios for years, but the box I got last week was stale. I'm not sure if it was old or what, but I was not happy.</td></tr><tr><td>2022-08-20</td><td>258147258147258</td><td>97</td><td>I'm a fan of Lay's potato chips, but the bag I bought last week was mostly broken pieces. I felt like I didn't get my money's worth.</td></tr><tr><td>2022-09-15</td><td>963012369852963</td><td>28</td><td>I've always loved Skippy peanut butter, but the jar I bought last month had a strange taste. It was almost bitter. I'm not sure what happened, but I was not happy.</td></tr><tr><td>2022-10-10</td><td>741258147258147</td><td>82</td><td>I'm a fan of Kraft mac and cheese, but the box I bought last week was missing the cheese packet. I was really disappointed. I expect better quality from such a well-known brand.</td></tr></tbody></table></div>"
      ]
     },
     "metadata": {
      "application/vnd.databricks.v1+output": {
       "addedWidgets": {},
       "aggData": [],
       "aggError": "",
       "aggOverflow": false,
       "aggSchema": [],
       "aggSeriesLimitReached": false,
       "aggType": "",
       "arguments": {},
       "columnCustomDisplayInfos": {},
       "data": [
        [
         "2022-01-01",
         123456789012345,
         42,
         "I was really disappointed with my purchase of Kellogg's Frosted Flakes. The box was only half full and the cereal was stale. I expect better quality from such a well-known brand."
        ],
        [
         "2022-02-20",
         987654321098765,
         73,
         "I'm a big fan of Coca-Cola, but the last bottle I bought tasted off. It was flat and had a strange aftertaste. I hope this was just a one-time issue."
        ],
        [
         "2022-03-15",
         456123789456123,
         19,
         "I've been buying Quaker Oats for years, but the last batch I got was inedible. The oats were hard and didn't cook properly. I'm not sure what happened, but I'm not happy."
        ],
        [
         "2022-04-10",
         951753456987451,
         88,
         "I'm a fan of Frito-Lay chips, but the bag I bought last week was mostly air. I felt ripped off. I expect more chips in my bag."
        ],
        [
         "2022-05-05",
         741852963012369,
         34,
         "I've always loved Nutella, but the jar I bought last month had a weird texture. It was grainy and not as smooth as it usually is. I hope this was just a fluke."
        ],
        [
         "2022-06-22",
         369258147258147,
         61,
         "I'm a fan of Campbell's soup, but the can I bought last week was dented and the soup tasted off. I'm not sure if it was because of the dent or not, but I was disappointed."
        ],
        [
         "2022-07-08",
         852963012369852,
         5,
         "I've been buying Cheerios for years, but the box I got last week was stale. I'm not sure if it was old or what, but I was not happy."
        ],
        [
         "2022-08-20",
         258147258147258,
         97,
         "I'm a fan of Lay's potato chips, but the bag I bought last week was mostly broken pieces. I felt like I didn't get my money's worth."
        ],
        [
         "2022-09-15",
         963012369852963,
         28,
         "I've always loved Skippy peanut butter, but the jar I bought last month had a strange taste. It was almost bitter. I'm not sure what happened, but I was not happy."
        ],
        [
         "2022-10-10",
         741258147258147,
         82,
         "I'm a fan of Kraft mac and cheese, but the box I bought last week was missing the cheese packet. I was really disappointed. I expect better quality from such a well-known brand."
        ]
       ],
       "datasetInfos": [],
       "dbfsResultPath": null,
       "isJsonSchema": true,
       "metadata": {},
       "overflow": false,
       "plotOptions": {
        "customPlotOptions": {},
        "displayType": "table",
        "pivotAggregation": null,
        "pivotColumns": null,
        "xColumns": null,
        "yColumns": null
       },
       "removedWidgets": [],
       "schema": [
        {
         "metadata": "{}",
         "name": "review_date",
         "type": "\"date\""
        },
        {
         "metadata": "{}",
         "name": "review_id",
         "type": "\"long\""
        },
        {
         "metadata": "{}",
         "name": "customer_id",
         "type": "\"long\""
        },
        {
         "metadata": "{}",
         "name": "review",
         "type": "\"string\""
        }
       ],
       "type": "table"
      }
     },
     "output_type": "display_data"
    }
   ],
   "source": [
    "%sql\n",
    "SELECT * FROM fake_reviews"
   ]
  },
  {
   "cell_type": "code",
   "execution_count": 0,
   "metadata": {
    "application/vnd.databricks.v1+cell": {
     "cellMetadata": {},
     "inputWidgets": {},
     "nuid": "90fd3bd9-6db6-448f-a077-f09a6dc3a1fe",
     "showTitle": false,
     "title": ""
    }
   },
   "outputs": [
    {
     "output_type": "display_data",
     "data": {
      "text/html": [
       "<style scoped>\n",
       "  .table-result-container {\n",
       "    max-height: 300px;\n",
       "    overflow: auto;\n",
       "  }\n",
       "  table, th, td {\n",
       "    border: 1px solid black;\n",
       "    border-collapse: collapse;\n",
       "  }\n",
       "  th, td {\n",
       "    padding: 5px;\n",
       "  }\n",
       "  th {\n",
       "    text-align: left;\n",
       "  }\n",
       "</style><div class='table-result-container'><table class='table-result'><thead style='background-color: white'><tr><th>customer_id</th><th>firstname</th><th>lastname</th><th>order_count</th></tr></thead><tbody><tr><td>1</td><td>John</td><td>Doe</td><td>123</td></tr><tr><td>2</td><td>Jane</td><td>Doe</td><td>45</td></tr><tr><td>3</td><td>Mike</td><td>Johnson</td><td>67</td></tr><tr><td>4</td><td>Amy</td><td>Smith</td><td>89</td></tr><tr><td>5</td><td>Sarah</td><td>Brown</td><td>150</td></tr><tr><td>6</td><td>Peter</td><td>Davis</td><td>111</td></tr><tr><td>7</td><td>Emily</td><td>Miller</td><td>12</td></tr><tr><td>8</td><td>Ryan</td><td>Williams</td><td>34</td></tr><tr><td>9</td><td>Lisa</td><td>Taylor</td><td>56</td></tr><tr><td>10</td><td>Daniel</td><td>Thomas</td><td>78</td></tr></tbody></table></div>"
      ]
     },
     "metadata": {
      "application/vnd.databricks.v1+output": {
       "addedWidgets": {},
       "aggData": [],
       "aggError": "",
       "aggOverflow": false,
       "aggSchema": [],
       "aggSeriesLimitReached": false,
       "aggType": "",
       "arguments": {},
       "columnCustomDisplayInfos": {},
       "data": [
        [
         1,
         "John",
         "Doe",
         123
        ],
        [
         2,
         "Jane",
         "Doe",
         45
        ],
        [
         3,
         "Mike",
         "Johnson",
         67
        ],
        [
         4,
         "Amy",
         "Smith",
         89
        ],
        [
         5,
         "Sarah",
         "Brown",
         150
        ],
        [
         6,
         "Peter",
         "Davis",
         111
        ],
        [
         7,
         "Emily",
         "Miller",
         12
        ],
        [
         8,
         "Ryan",
         "Williams",
         34
        ],
        [
         9,
         "Lisa",
         "Taylor",
         56
        ],
        [
         10,
         "Daniel",
         "Thomas",
         78
        ]
       ],
       "datasetInfos": [],
       "dbfsResultPath": null,
       "isJsonSchema": true,
       "metadata": {},
       "overflow": false,
       "plotOptions": {
        "customPlotOptions": {},
        "displayType": "table",
        "pivotAggregation": null,
        "pivotColumns": null,
        "xColumns": null,
        "yColumns": null
       },
       "removedWidgets": [],
       "schema": [
        {
         "metadata": "{}",
         "name": "customer_id",
         "type": "\"long\""
        },
        {
         "metadata": "{}",
         "name": "firstname",
         "type": "\"string\""
        },
        {
         "metadata": "{}",
         "name": "lastname",
         "type": "\"string\""
        },
        {
         "metadata": "{}",
         "name": "order_count",
         "type": "\"integer\""
        }
       ],
       "type": "table"
      }
     },
     "output_type": "display_data"
    }
   ],
   "source": [
    "%sql\n",
    "SELECT * FROM fake_customers"
   ]
  },
  {
   "cell_type": "markdown",
   "metadata": {
    "application/vnd.databricks.v1+cell": {
     "cellMetadata": {},
     "inputWidgets": {},
     "nuid": "2dcc2833-3ad5-40c7-b89c-2986a841f092",
     "showTitle": false,
     "title": ""
    }
   },
   "source": [
    "## Next steps\n",
    "We're now ready to implement our pipeline to extract information from our reviews! Open [03-automated-product-review-and-answer]($./03-automated-product-review-and-answer) to continue.\n",
    "\n",
    "\n",
    "Go back to [the introduction]($./00-SQL-AI-Functions-Introduction)"
   ]
  }
 ],
 "metadata": {
  "application/vnd.databricks.v1+notebook": {
   "dashboards": [],
   "environmentMetadata": null,
   "language": "python",
   "notebookMetadata": {
    "pythonIndentUnit": 2
   },
   "notebookName": "02-Generate-fake-data-with-AI-functions",
   "widgets": {}
  }
 },
 "nbformat": 4,
 "nbformat_minor": 0
}
